{
 "cells": [
  {
   "cell_type": "code",
   "execution_count": 1,
   "id": "a113ed40",
   "metadata": {},
   "outputs": [],
   "source": [
    "# start on: https://youtu.be/t3YJ5hKiMQ0?t=1"
   ]
  },
  {
   "cell_type": "code",
   "execution_count": 2,
   "id": "ddc70525",
   "metadata": {},
   "outputs": [],
   "source": [
    "import numpy as np"
   ]
  },
  {
   "cell_type": "code",
   "execution_count": null,
   "id": "b170f176",
   "metadata": {},
   "outputs": [],
   "source": []
  }
 ],
 "metadata": {
  "kernelspec": {
   "display_name": "Python 3 (ipykernel)",
   "language": "python",
   "name": "python3"
  },
  "language_info": {
   "codemirror_mode": {
    "name": "ipython",
    "version": 3
   },
   "file_extension": ".py",
   "mimetype": "text/x-python",
   "name": "python",
   "nbconvert_exporter": "python",
   "pygments_lexer": "ipython3",
   "version": "3.10.8"
  }
 },
 "nbformat": 4,
 "nbformat_minor": 5
}
