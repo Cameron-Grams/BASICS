{
 "cells": [
  {
   "cell_type": "code",
   "execution_count": 1,
   "id": "b9420413",
   "metadata": {},
   "outputs": [],
   "source": [
    "import numpy as np\n",
    "import torch\n",
    "from torch import nn\n",
    "from torch import optim\n",
    "from torch.nn import functional as F\n",
    "import matplotlib.pyplot as plt\n",
    "from sklearn.model_selection import train_test_split"
   ]
  },
  {
   "cell_type": "markdown",
   "id": "36c1c035",
   "metadata": {},
   "source": [
    "Notebook to produce the relationship of a projectile fired from ground level.\n",
    "- Velocity\n",
    "- Angle\n",
    "- Time"
   ]
  },
  {
   "cell_type": "code",
   "execution_count": 2,
   "id": "b30788b0",
   "metadata": {},
   "outputs": [],
   "source": [
    "# helper function to determine given distance and height at angle and time\n",
    "def projectile(angle, time, velocity = 30):\n",
    "    \"\"\"\n",
    "    return the height and distance of an object projected at a given \n",
    "    angle in radians at a given time at a given velocity; \n",
    "    30 meters/second assumed value for velocity\n",
    "    \"\"\"\n",
    "\n",
    "    # gravity constant (assumed); meters per second squared\n",
    "    g = 9.81\n",
    "\n",
    "    x = velocity * time * np.cos(angle) \n",
    "\n",
    "    y = (velocity * time * np.sin(angle)) - ((g * (time**2)) * 0.5)\n",
    "\n",
    "    return x, y, velocity"
   ]
  },
  {
   "cell_type": "code",
   "execution_count": 3,
   "id": "7871b129",
   "metadata": {
    "tags": []
   },
   "outputs": [],
   "source": [
    "# create data based on projectile formula\n",
    "# possible problem with the unit 5 demarcations\n",
    "\n",
    "# 300 time slices between 0 and 5 seconds\n",
    "time = np.linspace(0, 5, 300)\n",
    "\n",
    "# a range of angles from 20 to 60 degrees by 5 degree increments\n",
    "ang = np.arange(20, 60, 5)\n",
    "\n",
    "# range of velocities from 5 to 50 m/s\n",
    "velocities = np.arange(5, 55, 5)"
   ]
  },
  {
   "cell_type": "code",
   "execution_count": 4,
   "id": "bee8f851",
   "metadata": {},
   "outputs": [],
   "source": [
    "# an object will hold angle keys with values of an object of x and y values demarcated by time\n",
    "example_projectiles = {}"
   ]
  },
  {
   "cell_type": "code",
   "execution_count": 5,
   "id": "7ba2fd74",
   "metadata": {},
   "outputs": [
    {
     "name": "stdout",
     "output_type": "stream",
     "text": [
      "CPU times: user 63.8 ms, sys: 73 µs, total: 63.8 ms\n",
      "Wall time: 63.6 ms\n"
     ]
    }
   ],
   "source": [
    "%%time\n",
    "for a in ang:\n",
    "    # reset the collection for each angle over time\n",
    "    x_values = []\n",
    "    y_values = []\n",
    "    time_stamp = []\n",
    "    velocity_values = []\n",
    "    \n",
    "    # convert the angle to radians\n",
    "    ang_rad = (np.pi * a)/180\n",
    "\n",
    "    for v in velocities:\n",
    "        for t in time:\n",
    "            x, y, vel = projectile(ang_rad, t, v)        \n",
    "            x_values.append(x)\n",
    "            y_values.append(y)\n",
    "            time_stamp.append(t)\n",
    "            velocity_values.append(vel)\n",
    "                   \n",
    "    example_projectiles[a] = {\n",
    "        \"dist\": x_values,\n",
    "        \"height\": y_values,\n",
    "        \"times\": time_stamp, \n",
    "        \"velocity\": velocity_values\n",
    "    }"
   ]
  },
  {
   "cell_type": "markdown",
   "id": "10e3b891",
   "metadata": {},
   "source": [
    "# Prepare Data"
   ]
  },
  {
   "cell_type": "code",
   "execution_count": 6,
   "id": "31392cb9",
   "metadata": {},
   "outputs": [],
   "source": [
    "g = torch.Generator().manual_seed(1337)"
   ]
  },
  {
   "cell_type": "code",
   "execution_count": 7,
   "id": "90ee4e86-04fa-4c08-84e7-18b59f8c2de9",
   "metadata": {},
   "outputs": [],
   "source": [
    "def prepare_X_Y(examples = example_projectiles, angles = ang):\n",
    "    \"\"\"\n",
    "    Arguments:\n",
    "    - object with key of angle and values an object of lists of:\n",
    "        - distance\n",
    "        - height\n",
    "        - times of flight \n",
    "        - velocity\n",
    "    - a list of angles \n",
    "\n",
    "    Return:\n",
    "    - Two matrices:\n",
    "        - X: [number of samples, [velocity, time in flight, angle]]\n",
    "        - Y: [number of samples, [distance at point of flight, \n",
    "                 height of projectile at point of flight, angle]]\n",
    "\n",
    "    Negative height values are included to train the nn and need to \n",
    "        be filtered for use\n",
    "    \"\"\"\n",
    "\n",
    "    # individual features\n",
    "    angles_list = []\n",
    "    distance = []\n",
    "    height = []\n",
    "    times = []\n",
    "    velocity = []\n",
    "\n",
    "    for ang in angles:\n",
    "        ang_height = example_projectiles[ang]['height']\n",
    "        ang_dist = example_projectiles[ang]['dist']\n",
    "        ang_velocity = example_projectiles[ang]['velocity']\n",
    "        ang_times = example_projectiles[ang]['times']\n",
    "        ang_list = [ang] * len(ang_times) \n",
    "\n",
    "        angles_list.extend(ang_list)\n",
    "        distance.extend(ang_dist)\n",
    "        height.extend(ang_height)\n",
    "        times.extend(ang_times)\n",
    "        velocity.extend(ang_velocity)\n",
    "\n",
    "    # final returns\n",
    "    X = np.vstack([velocity, times, angles_list])\n",
    "    X = X.T\n",
    "\n",
    "    Y = np.vstack([distance, height, angles_list])\n",
    "    Y = Y.T\n",
    "\n",
    "    return X, Y"
   ]
  },
  {
   "cell_type": "code",
   "execution_count": 8,
   "id": "35d5b435-0034-4b0f-a50b-bc3accf97d30",
   "metadata": {},
   "outputs": [],
   "source": [
    "X, Y = prepare_X_Y()"
   ]
  },
  {
   "cell_type": "code",
   "execution_count": 9,
   "id": "ee794d86",
   "metadata": {},
   "outputs": [],
   "source": [
    "X_train, X_test, y_train, y_test = train_test_split(X, Y, test_size = 0.1, random_state = 42)"
   ]
  },
  {
   "cell_type": "code",
   "execution_count": 10,
   "id": "a60321b6",
   "metadata": {},
   "outputs": [],
   "source": [
    "X_train = torch.Tensor(X_train)\n",
    "y_train = torch.Tensor(y_train)\n",
    "\n",
    "X_test = torch.Tensor(X_test)\n",
    "y_test = torch.Tensor(y_test)"
   ]
  },
  {
   "cell_type": "code",
   "execution_count": 11,
   "id": "14d27741",
   "metadata": {},
   "outputs": [
    {
     "name": "stdout",
     "output_type": "stream",
     "text": [
      "torch.Size([21600, 3]) torch.Size([21600, 3])\n"
     ]
    }
   ],
   "source": [
    "print(X_train.shape, y_train.shape)"
   ]
  },
  {
   "cell_type": "markdown",
   "id": "8b06aa45-e4b9-44b3-bca1-8103e8241813",
   "metadata": {},
   "source": [
    "# Train model"
   ]
  },
  {
   "cell_type": "code",
   "execution_count": 12,
   "id": "2e74e02a",
   "metadata": {},
   "outputs": [],
   "source": [
    "batch_size = 300"
   ]
  },
  {
   "cell_type": "code",
   "execution_count": 13,
   "id": "9cd9bcc7",
   "metadata": {},
   "outputs": [],
   "source": [
    "# hard coded batch size\n",
    "\n",
    "class NNModelEX1(nn.Module):\n",
    "    \"\"\"\n",
    "    Inputs of velocity and angle must be lists of a single value for the changing interval of time\n",
    "    \n",
    "    From inputs:\n",
    "    - velocity of projectile\n",
    "    - time in path (input as a list/tensor)\n",
    "    - angle of launch\n",
    "    \n",
    "    Model outputs:\n",
    "    - distance traveled\n",
    "    - height of projectile\n",
    "    - angle launched\n",
    "    \"\"\"\n",
    "    def __init__(self):\n",
    "        super().__init__()\n",
    "        self.linear_relu_stack = nn.Sequential(\n",
    "            nn.Linear(3, 300),\n",
    "            nn.ReLU(),\n",
    "            nn.Linear(300, 300, 500),\n",
    "            nn.ReLU(),\n",
    "            nn.Linear(300, 300),\n",
    "            nn.ReLU(),\n",
    "            nn.Linear(300, 3),\n",
    "        )\n",
    "\n",
    "    def forward(self, x):\n",
    "        logits = self.linear_relu_stack(x)\n",
    "        return logits"
   ]
  },
  {
   "cell_type": "code",
   "execution_count": 14,
   "id": "6ef2c0b7",
   "metadata": {},
   "outputs": [],
   "source": [
    "def create_model(model = NNModelEX1()):\n",
    "    optimizer = optim.Adam(model.parameters(), lr = 0.01) \n",
    "    return model, optimizer"
   ]
  },
  {
   "cell_type": "code",
   "execution_count": 15,
   "id": "ce05d3d8",
   "metadata": {},
   "outputs": [],
   "source": [
    "def loss_fx(pred, y):\n",
    "    return ((pred - y)**2).mean()\n",
    "\n",
    "# loss_func = loss_fx\n",
    "# loss_func = F.cross_entropy\n",
    "loss_func = nn.MSELoss()"
   ]
  },
  {
   "cell_type": "code",
   "execution_count": 16,
   "id": "22a2a3bc-0501-4c73-9387-9a7963446dc4",
   "metadata": {},
   "outputs": [],
   "source": [
    "def train_model(model, optimizer, loss_func, epochs):\n",
    "    \"\"\" \n",
    "    Arguments:\n",
    "    - Model instance\n",
    "    - Loss function to use in training\n",
    "    - Number of epochs to use in training\n",
    "\n",
    "    Returns:\n",
    "    - Model trained to provided number of epochs\n",
    "    \"\"\"\n",
    "\n",
    "    for epoch in range(epochs):\n",
    "        ix = torch.randint(0, X_train.shape[0], (batch_size,), generator = g)\n",
    "        x = X_train[ix]\n",
    "        y = y_train[ix]\n",
    "        pred = model(x)\n",
    "        loss = loss_func(pred, y)\n",
    "        loss.backward()\n",
    "        optimizer.step()\n",
    "        optimizer.zero_grad()\n",
    "        if (epoch % 1000 == 0):\n",
    "            print(f\"Current epoch {epoch} with loss {loss}\")\n",
    "\n",
    "    return model"
   ]
  },
  {
   "cell_type": "code",
   "execution_count": 17,
   "id": "2a083402-3da7-4ee7-bc94-49d085c26ff4",
   "metadata": {},
   "outputs": [],
   "source": [
    "model, optimizer = create_model()\n",
    "epochs = 5000"
   ]
  },
  {
   "cell_type": "code",
   "execution_count": 18,
   "id": "feb510ce-2913-45d3-b6eb-cfb7389ea657",
   "metadata": {},
   "outputs": [
    {
     "name": "stdout",
     "output_type": "stream",
     "text": [
      "Current epoch 0 with loss 2776.3447265625\n",
      "Current epoch 1000 with loss 1.873464584350586\n",
      "Current epoch 2000 with loss 0.42896541953086853\n",
      "Current epoch 3000 with loss 0.5093550086021423\n",
      "Current epoch 4000 with loss 0.49867644906044006\n"
     ]
    }
   ],
   "source": [
    "model = train_model(model, optimizer, loss_func, epochs)"
   ]
  },
  {
   "cell_type": "code",
   "execution_count": 19,
   "id": "05bd1373",
   "metadata": {},
   "outputs": [],
   "source": [
    "ix_eval = torch.randint(0, X_test.shape[0], (batch_size,), generator = g)\n",
    "x_eval = X_test[ix_eval]\n",
    "y_eval = y_test[ix_eval]\n",
    "# print(x_eval)\n",
    "# print(y_eval)"
   ]
  },
  {
   "cell_type": "code",
   "execution_count": 20,
   "id": "9e73c46b",
   "metadata": {},
   "outputs": [],
   "source": [
    "# x_eval"
   ]
  },
  {
   "cell_type": "code",
   "execution_count": 21,
   "id": "2494a2d5",
   "metadata": {},
   "outputs": [
    {
     "name": "stdout",
     "output_type": "stream",
     "text": [
      "tensor(1.4262, grad_fn=<MseLossBackward0>)\n"
     ]
    }
   ],
   "source": [
    "x_pred = model(x_eval)\n",
    "print(loss_func(x_pred, y_eval))"
   ]
  },
  {
   "cell_type": "code",
   "execution_count": 22,
   "id": "afc019f5",
   "metadata": {},
   "outputs": [],
   "source": [
    "# x_pred.tolist()[:5]"
   ]
  },
  {
   "cell_type": "code",
   "execution_count": 23,
   "id": "792fd40c",
   "metadata": {},
   "outputs": [],
   "source": [
    "# y_eval.tolist()[:5]"
   ]
  },
  {
   "cell_type": "markdown",
   "id": "55eb5e10-4fb6-42ce-8d42-5e32ccb8135c",
   "metadata": {},
   "source": [
    "-------------------------------------------------------"
   ]
  },
  {
   "cell_type": "markdown",
   "id": "fb1c324a-d65e-440b-98d8-8993e71df442",
   "metadata": {},
   "source": [
    "### To load the best performing model:"
   ]
  },
  {
   "cell_type": "code",
   "execution_count": 24,
   "id": "c0439c3d",
   "metadata": {},
   "outputs": [],
   "source": [
    "# https://pytorch.org/tutorials/beginner/basics/saveloadrun_tutorial.html\n",
    "# torch.save(model, 'model.pth')  ;   tensor(0.0563, grad_fn=<MseLossBackward0>)\n",
    "# model = torch.load('model.pth')"
   ]
  },
  {
   "cell_type": "markdown",
   "id": "462e276f-9079-43ea-ba53-5003c3cff677",
   "metadata": {},
   "source": [
    "--------------------------------------------------------------"
   ]
  },
  {
   "cell_type": "code",
   "execution_count": 25,
   "id": "76ec4e6f-f92d-4f19-b2cd-f1c5cbc28b04",
   "metadata": {},
   "outputs": [],
   "source": [
    "def calculate_trajectory(angle, velocity, projectile = projectile):\n",
    "    \"\"\"\n",
    "    Trajectory calculated over a 5 second time period divided into 300 intervals\n",
    "    Arguments:\n",
    "    - Angle of the projectile\n",
    "    - velocity of the projectile\n",
    "    - projectile formula to use\n",
    "\n",
    "    Returns:\n",
    "    - X: distances in a list\n",
    "    - Y: heights in a list\n",
    "    \"\"\"\n",
    "    X, Y = [], []\n",
    "    ang_rad = (np.pi * angle)/180\n",
    "\n",
    "    for t in np.linspace(0, 5, 300):\n",
    "        x, y, _ = projectile(ang_rad, t, velocity)\n",
    "        if y >=0:\n",
    "            X.append(x)\n",
    "            Y.append(y)\n",
    "\n",
    "    return X, Y"
   ]
  },
  {
   "cell_type": "code",
   "execution_count": 26,
   "id": "e13181f1",
   "metadata": {},
   "outputs": [],
   "source": [
    "def predict_trajectory(angle, velocity, model = model):\n",
    "    \"\"\"\n",
    "    Trajectory if predicted for a 5 second period divided into 300 intervals\n",
    "\n",
    "    Arguments:\n",
    "    - angle of projectile\n",
    "    - velocity of projectile\n",
    "\n",
    "    Returns: \n",
    "    - X: prediction of distance values\n",
    "    - Y: prediction of height values at given distances\n",
    "    \"\"\"\n",
    "\n",
    "    time = np.linspace(0, 5, 300)\n",
    "    \n",
    "\n",
    "    vel = [velocity] * 300\n",
    "    angle = [angle] * 300\n",
    "\n",
    "    inputs = np.vstack([vel, time, angle])\n",
    "    inputs = torch.Tensor(inputs.T)\n",
    "\n",
    "    predictions = model(inputs)\n",
    "    predictions = predictions.tolist()\n",
    "    predictions = [pred for pred in predictions if pred[1] > 0]\n",
    "\n",
    "    X = [p[0] for p in predictions]\n",
    "    Y = [p[1] for p in predictions]\n",
    "\n",
    "    return X, Y"
   ]
  },
  {
   "cell_type": "code",
   "execution_count": 27,
   "id": "6e8db0ad-cfa9-456f-b093-a6dcfc72de00",
   "metadata": {},
   "outputs": [],
   "source": [
    "def plot_comparison(X_calc, Y_calc, X_pred, Y_pred):\n",
    "    fig = plt.figure(figsize=(9,9))\n",
    "    gs = fig.add_gridspec(2,2, height_ratios=[1,3])    \n",
    "        \n",
    "    ax = fig.add_subplot(gs[1, :]) # main plot\n",
    "    ax.plot(X_pred, Y_pred, c='darkblue', label=\"Predicted\")\n",
    "    ax.plot(X_calc, Y_calc, c='red', label=\"Calculated\")\n",
    "    ax.set_title(\"Comparison of predicted and calculated trajectories\")\n",
    "    ax.legend()\n",
    "\n",
    "    ax_pred = fig.add_subplot(gs[0, 0])\n",
    "    ax_pred.plot(X_pred, Y_pred, c='darkblue')\n",
    "    ax_pred.set_title(\"Predicted trajectory\")\n",
    "\n",
    "    ax_actual = fig.add_subplot(gs[0, 1])\n",
    "    ax_actual.plot(X_calc, Y_calc, c='red')\n",
    "    ax_actual.set_title(\"Calculated trajectory\")\n",
    "\n",
    "    plt.show()\n"
   ]
  },
  {
   "cell_type": "code",
   "execution_count": 28,
   "id": "254a192c-c30b-46fb-ba9c-e44c3848cf2e",
   "metadata": {},
   "outputs": [],
   "source": [
    "target_angle = 30\n",
    "target_velocity = 30"
   ]
  },
  {
   "cell_type": "code",
   "execution_count": 29,
   "id": "fb4b2a90-72a4-4059-ac86-cfc2bba92ee6",
   "metadata": {},
   "outputs": [],
   "source": [
    "X_pred, Y_pred = predict_trajectory(target_angle, target_velocity)"
   ]
  },
  {
   "cell_type": "code",
   "execution_count": 30,
   "id": "a850e6d8-a12a-464f-b1e2-9abf4ca989a0",
   "metadata": {},
   "outputs": [],
   "source": [
    "X_calc, Y_calc = calculate_trajectory(target_angle, target_velocity)"
   ]
  },
  {
   "cell_type": "code",
   "execution_count": 31,
   "id": "49aee086",
   "metadata": {},
   "outputs": [
    {
     "data": {
      "image/png": "[encoded data removed]",
      "text/plain": [
       "<Figure size 900x900 with 3 Axes>"
      ]
     },
     "metadata": {},
     "output_type": "display_data"
    }
   ],
   "source": [
    "plot_comparison(X_calc, Y_calc, X_pred, Y_pred)"
   ]
  },
  {
   "cell_type": "code",
   "execution_count": null,
   "id": "40277045-92eb-4693-8aac-306335e48e0e",
   "metadata": {},
   "outputs": [],
   "source": []
  }
 ],
 "metadata": {
  "kernelspec": {
   "display_name": "Python 3 (ipykernel)",
   "language": "python",
   "name": "python3"
  },
  "language_info": {
   "codemirror_mode": {
    "name": "ipython",
    "version": 3
   },
   "file_extension": ".py",
   "mimetype": "text/x-python",
   "name": "python",
   "nbconvert_exporter": "python",
   "pygments_lexer": "ipython3",
   "version": "3.10.8"
  }
 },
 "nbformat": 4,
 "nbformat_minor": 5
}
