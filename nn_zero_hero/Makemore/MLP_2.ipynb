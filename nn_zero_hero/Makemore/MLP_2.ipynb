{
 "cells": [
  {
   "cell_type": "code",
   "execution_count": 1,
   "id": "2f0fb81c",
   "metadata": {},
   "outputs": [],
   "source": [
    "#   https://youtu.be/P6sfmUTpUmc?t=3659"
   ]
  },
  {
   "cell_type": "code",
   "execution_count": 2,
   "id": "3db0d4c8",
   "metadata": {},
   "outputs": [],
   "source": [
    "import torch\n",
    "import torch.nn.functional as F\n",
    "import matplotlib.pyplot as plt\n",
    "%matplotlib inline"
   ]
  },
  {
   "cell_type": "code",
   "execution_count": 3,
   "id": "7fc6e5ab",
   "metadata": {},
   "outputs": [
    {
     "data": {
      "text/plain": [
       "['emma', 'olivia', 'ava', 'isabella', 'sophia', 'charlotte', 'mia', 'amelia']"
      ]
     },
     "execution_count": 3,
     "metadata": {},
     "output_type": "execute_result"
    }
   ],
   "source": [
    "words = open('names.txt', 'r').read().splitlines()\n",
    "words[:8]"
   ]
  },
  {
   "cell_type": "code",
   "execution_count": 4,
   "id": "8f238c43",
   "metadata": {},
   "outputs": [
    {
     "data": {
      "text/plain": [
       "32033"
      ]
     },
     "execution_count": 4,
     "metadata": {},
     "output_type": "execute_result"
    }
   ],
   "source": [
    "len(words)"
   ]
  },
  {
   "cell_type": "code",
   "execution_count": 5,
   "id": "f9062507",
   "metadata": {},
   "outputs": [
    {
     "name": "stdout",
     "output_type": "stream",
     "text": [
      "{1: 'a', 2: 'b', 3: 'c', 4: 'd', 5: 'e', 6: 'f', 7: 'g', 8: 'h', 9: 'i', 10: 'j', 11: 'k', 12: 'l', 13: 'm', 14: 'n', 15: 'o', 16: 'p', 17: 'q', 18: 'r', 19: 's', 20: 't', 21: 'u', 22: 'v', 23: 'w', 24: 'x', 25: 'y', 26: 'z', 0: '.'}\n",
      "27\n"
     ]
    }
   ],
   "source": [
    "# character - integer mappings\n",
    "chars = sorted(list(set(''.join(words))))\n",
    "stoi = {s:i+1 for i, s in enumerate(chars)}\n",
    "stoi['.'] = 0\n",
    "itos = {i:s for s, i in stoi.items()}\n",
    "vocab_size = len(itos)\n",
    "print(itos)\n",
    "print(vocab_size)"
   ]
  },
  {
   "cell_type": "code",
   "execution_count": 6,
   "id": "c91c013e",
   "metadata": {},
   "outputs": [],
   "source": [
    "# build dataset\n",
    "block_size = 3 # context length for characters\n",
    "\n",
    "def build_dataset(words):\n",
    "    X, Y = [], []\n",
    "    \n",
    "    for w in words:\n",
    "        context = [0] * block_size\n",
    "        for ch in w + '.':\n",
    "            ix = stoi[ch]\n",
    "            X.append(context)\n",
    "            Y.append(ix)\n",
    "            context = context[1:] + [ix]  # crop and create new context\n",
    "            \n",
    "    X = torch.tensor(X)\n",
    "    Y = torch.tensor(Y)\n",
    "    print(X.shape, Y.shape)\n",
    "    return X, Y"
   ]
  },
  {
   "cell_type": "code",
   "execution_count": 7,
   "id": "9437bddf",
   "metadata": {},
   "outputs": [
    {
     "name": "stdout",
     "output_type": "stream",
     "text": [
      "torch.Size([182625, 3]) torch.Size([182625])\n",
      "torch.Size([22655, 3]) torch.Size([22655])\n",
      "torch.Size([22866, 3]) torch.Size([22866])\n"
     ]
    }
   ],
   "source": [
    "# training, dev and test sets\n",
    "import random\n",
    "random.seed(42)\n",
    "random.shuffle(words)\n",
    "# break points for a 80, 10, 10 split\n",
    "n1 = int(0.8*len(words))\n",
    "n2 = int(0.9*len(words))\n",
    "\n",
    "Xtr, Ytr = build_dataset(words[:n1])\n",
    "Xdev, Ydev = build_dataset(words[n1:n2])\n",
    "Xte, Yte = build_dataset(words[n2:])"
   ]
  },
  {
   "cell_type": "code",
   "execution_count": 8,
   "id": "e2a2d4bf",
   "metadata": {},
   "outputs": [],
   "source": [
    "# MLP\n",
    "n_embed = 10 #dimensionality of the character embedding vectors\n",
    "n_hidden = 200 # number of neurons in the hidden layer of the MLP"
   ]
  },
  {
   "cell_type": "code",
   "execution_count": 9,
   "id": "9ba11ce4",
   "metadata": {},
   "outputs": [],
   "source": [
    "# g = torch.Generator().manual_seed(2147483647)\n",
    "# C = torch.randn((vocab_size, n_embed),             generator=g)\n",
    "# W1 = torch.randn((n_embed * block_size, n_hidden), generator=g)\n",
    "# b1 = torch.randn(n_hidden,                         generator=g)\n",
    "# W2 = torch.randn((n_hidden, vocab_size),           generator=g)\n",
    "# b2 = torch.randn(vocab_size,                       generator=g)\n",
    "\n",
    "# parameters = [C, W1, b1, W2, b2]\n",
    "# print(sum(p.nelement() for p in parameters)) # number of parameters total\n",
    "# for p in parameters:\n",
    "#     p.requires_grad = True"
   ]
  },
  {
   "cell_type": "markdown",
   "id": "b1324380",
   "metadata": {},
   "source": [
    "### #1.To improve the starting values\n",
    "zero out the initial b2 values and adjust the W2 to much smaller values; creates inital logit values that are closer to 0 - the loss at the beginning is smaller and later adjustments can be made more easily."
   ]
  },
  {
   "cell_type": "code",
   "execution_count": 10,
   "id": "72834e7c",
   "metadata": {},
   "outputs": [
    {
     "name": "stdout",
     "output_type": "stream",
     "text": [
      "11897\n"
     ]
    }
   ],
   "source": [
    "g = torch.Generator().manual_seed(2147483647)\n",
    "C = torch.randn((vocab_size, n_embed),             generator=g)\n",
    "W1 = torch.randn((n_embed * block_size, n_hidden), generator=g) * 0.2\n",
    "b1 = torch.randn(n_hidden,                         generator=g) * 0.01\n",
    "# to demonstrate the learning problem of the neurons uncomment below\n",
    "# W1 = torch.randn((n_embed * block_size, n_hidden), generator=g)\n",
    "# b1 = torch.randn(n_hidden,                         generator=g)\n",
    "\n",
    "\n",
    "W2 = torch.randn((n_hidden, vocab_size),           generator=g) * 0.01 #to decrease overall size of the logits\n",
    "b2 = torch.randn(vocab_size,                       generator=g) * 0\n",
    "\n",
    "parameters = [C, W1, b1, W2, b2]\n",
    "print(sum(p.nelement() for p in parameters)) # number of parameters total\n",
    "for p in parameters:\n",
    "    p.requires_grad = True"
   ]
  },
  {
   "cell_type": "code",
   "execution_count": 11,
   "id": "2ce5df9d",
   "metadata": {},
   "outputs": [
    {
     "name": "stdout",
     "output_type": "stream",
     "text": [
      "      0/ 200000: 3.3135\n",
      "  10000/ 200000: 2.1648\n",
      "  20000/ 200000: 2.3061\n",
      "  30000/ 200000: 2.4541\n",
      "  40000/ 200000: 1.9787\n",
      "  50000/ 200000: 2.2930\n",
      "  60000/ 200000: 2.4232\n",
      "  70000/ 200000: 2.0680\n",
      "  80000/ 200000: 2.3095\n",
      "  90000/ 200000: 2.1207\n",
      " 100000/ 200000: 1.8269\n",
      " 110000/ 200000: 2.2045\n",
      " 120000/ 200000: 1.9797\n",
      " 130000/ 200000: 2.3946\n",
      " 140000/ 200000: 2.1000\n",
      " 150000/ 200000: 2.1948\n",
      " 160000/ 200000: 1.8619\n",
      " 170000/ 200000: 1.7809\n",
      " 180000/ 200000: 1.9673\n",
      " 190000/ 200000: 1.8295\n"
     ]
    }
   ],
   "source": [
    "# Optimization\n",
    "max_steps = 200000\n",
    "batch_size = 32\n",
    "lossi = []\n",
    "\n",
    "for i in range(max_steps):\n",
    "    \n",
    "    #minibatch construct; random selection of values from Xtr\n",
    "    ix = torch.randint(0, Xtr.shape[0], (batch_size,), generator=g)\n",
    "    Xb, Yb = Xtr[ix], Ytr[ix]  # batch X, Y -- ix is a tensor that indexes into tr\n",
    "        \n",
    "    # forward pass\n",
    "    emb = C[Xb] # embed the characters into vectors from C\n",
    "    # creates tensors with torch.Size([32, 3, 10]); batch size, block size character values, embeddings    \n",
    "    embcat = emb.view(emb.shape[0], -1) # concatenate the vectors\n",
    "    # creates torch.Size([32, 30]); batch size, concatenated character embeddings\n",
    "    \n",
    "    # hpreact too far from 0 --> neurons having trouble learning\n",
    "    hpreact = embcat @ W1 + b1 # hidden layer activation\n",
    "    # creates torch.Size([32, 200]); batch size, number of neurons (n_hidden)\n",
    "    \n",
    "    h = torch.tanh(hpreact) # hidden layer\n",
    "    logits = h @ W2 + b2 # output layer\n",
    "    # creates torch.Size([32, 27]); batch size, probability for each of the 27 characters in vocab \n",
    "    \n",
    "    loss = F.cross_entropy(logits, Yb)  # loss function of predictions and actual value Yb\n",
    "    \n",
    "    # backward pass\n",
    "    for p in parameters:\n",
    "        p.grad = None\n",
    "    loss.backward()\n",
    "    \n",
    "    # update\n",
    "    lr = 0.1 if i < 100000 else 0.01 # step the learning rate decay\n",
    "    for p in parameters:\n",
    "        p.data += -lr * p.grad  # each parameter tuned with it's gradients \n",
    "        \n",
    "    # track stats\n",
    "    if i % 10000 == 0: \n",
    "        print(f\"{i:7d}/{max_steps:7d}: {loss.item():.4f}\")\n",
    "    lossi.append(loss.log10().item())"
   ]
  },
  {
   "cell_type": "markdown",
   "id": "7b3c4075",
   "metadata": {},
   "source": [
    "### Consideration of tanh effect on neurons: Brain Dead Neurons"
   ]
  },
  {
   "cell_type": "markdown",
   "id": "e83b4dbb",
   "metadata": {},
   "source": [
    "The h values from tanh(hpreact) that are closest to 1 or -1 have a gradient of 1 and are passed through with no effect in backpropagation (see Micrograd for the tanh backpropagation function). "
   ]
  },
  {
   "cell_type": "code",
   "execution_count": 12,
   "id": "c5838080",
   "metadata": {},
   "outputs": [
    {
     "data": {
      "image/png": "[encoded data removed]",
      "text/plain": [
       "<Figure size 2000x1000 with 1 Axes>"
      ]
     },
     "metadata": {},
     "output_type": "display_data"
    }
   ],
   "source": [
    "# 32 examples with 200 neurons\n",
    "# How many activations are close to 1 or -1? \n",
    "\n",
    "plt.figure(figsize=(20, 10))\n",
    "plt.imshow(h.abs() > 0.99, cmap='gray', interpolation='nearest'); # the absolute values of tanh that are closest\n",
    "# to 1 or -1 ; boolean tensor - white if true, black if false\n",
    "\n",
    "# UNCOMMENTED EXAMPLE in cell #1: the large amount of white means that the neuron would be destroyed \n",
    "# (made inconsequential) on backpropagation if a neuron is all white across examples would lead to a dead \n",
    "# neuron, never learn from backpropagation\n",
    "\n",
    "# with the scalars on b1 and W1 the values are all below 1 or -1 --> no neuron has trouble learning"
   ]
  },
  {
   "cell_type": "code",
   "execution_count": 13,
   "id": "a7cc3abd",
   "metadata": {},
   "outputs": [
    {
     "data": {
      "image/png": "[encoded data removed]",
      "text/plain": [
       "<Figure size 640x480 with 1 Axes>"
      ]
     },
     "metadata": {},
     "output_type": "display_data"
    }
   ],
   "source": [
    "# examine the tanh function for possible optimizing: values near |1| update less frequently\n",
    "plt.hist(h.view(-1).tolist(), 50);"
   ]
  },
  {
   "cell_type": "code",
   "execution_count": 14,
   "id": "1bd8f646",
   "metadata": {},
   "outputs": [
    {
     "data": {
      "image/png": "[encoded data removed]",
      "text/plain": [
       "<Figure size 640x480 with 1 Axes>"
      ]
     },
     "metadata": {},
     "output_type": "display_data"
    }
   ],
   "source": [
    "# distribution is broad; most values clustered --> tanh concentrations at -1 and 1\n",
    "plt.hist(hpreact.view(-1).tolist(), 50);"
   ]
  },
  {
   "cell_type": "code",
   "execution_count": 15,
   "id": "55878a3a",
   "metadata": {},
   "outputs": [
    {
     "data": {
      "text/plain": [
       "tensor(3.2958)"
      ]
     },
     "execution_count": 15,
     "metadata": {},
     "output_type": "execute_result"
    }
   ],
   "source": [
    "# significant that the intial loss is 27 --> expect equal probability of each character\n",
    "# the anticipated value if all initial values were equally likely\n",
    "- torch.tensor(1/27.0).log()"
   ]
  },
  {
   "cell_type": "code",
   "execution_count": 16,
   "id": "fd376ea5",
   "metadata": {},
   "outputs": [
    {
     "data": {
      "text/plain": [
       "tensor([-2.6747,  2.1230, -0.6957, -0.1797,  0.2563,  2.4494, -1.8891, -2.4445,\n",
       "        -1.0200,  2.9168, -2.3774, -0.5807,  3.0092,  1.9834,  3.8758,  1.2065,\n",
       "        -0.8338, -3.8638,  1.6995,  1.6316,  0.5563, -2.8111,  0.3735, -2.5028,\n",
       "        -2.7555,  2.9825, -0.0861], grad_fn=<SelectBackward0>)"
      ]
     },
     "execution_count": 16,
     "metadata": {},
     "output_type": "execute_result"
    }
   ],
   "source": [
    "# modify the values in block #1 above to come close to the above number\n",
    "# logits should be closer to 0\n",
    "logits[0]"
   ]
  },
  {
   "cell_type": "code",
   "execution_count": 17,
   "id": "eac15add",
   "metadata": {},
   "outputs": [
    {
     "data": {
      "text/plain": [
       "[<matplotlib.lines.Line2D at 0x7fa8d715d8a0>]"
      ]
     },
     "execution_count": 17,
     "metadata": {},
     "output_type": "execute_result"
    },
    {
     "data": {
      "image/png": "[encoded data removed]",
      "text/plain": [
       "<Figure size 640x480 with 1 Axes>"
      ]
     },
     "metadata": {},
     "output_type": "display_data"
    }
   ],
   "source": [
    "plt.plot(lossi) # removing the hockey-stick appearance means that the network is starting from a set\n",
    "# of values that are closer to what is needed "
   ]
  },
  {
   "cell_type": "code",
   "execution_count": 18,
   "id": "a6bba5dd",
   "metadata": {},
   "outputs": [
    {
     "name": "stdout",
     "output_type": "stream",
     "text": [
      "train 2.0355966091156006\n",
      "val 2.1026782989501953\n"
     ]
    }
   ],
   "source": [
    "@torch.no_grad() # decorator to disable gradient tracking\n",
    "def split_loss(split):\n",
    "    x,y = {\n",
    "        'train': (Xtr, Ytr),\n",
    "        'val': (Xdev, Ydev),\n",
    "        'test': (Xte, Yte)\n",
    "    }[split]\n",
    "    emb = C[x] #(N, block_size, n_embed)\n",
    "    embcat = emb.view(emb.shape[0], -1) # concat into (N, block_size * n_embed)\n",
    "    h = torch.tanh(embcat @ W1 + b1) # (N, n_hidden)\n",
    "    logits = h @ W2 + b2 # (N, vocab_size)\n",
    "    loss = F.cross_entropy(logits, y)\n",
    "    print(split, loss.item())\n",
    "    \n",
    "split_loss('train')\n",
    "split_loss('val')"
   ]
  },
  {
   "cell_type": "markdown",
   "id": "cbeb1a86",
   "metadata": {},
   "source": [
    "### Loss Log:"
   ]
  },
  {
   "cell_type": "code",
   "execution_count": 19,
   "id": "ccfdcc00",
   "metadata": {},
   "outputs": [],
   "source": [
    "# # original: with no adjustment to softmax or tanh\n",
    "# train 2.125401020050049\n",
    "# val 2.1713311672210693\n",
    "\n",
    "# # fix softmax confidently wrong:\n",
    "# train 2.069589138031006\n",
    "# val 2.1310746669769287\n",
    "\n",
    "# # fix tanh layer too saturated at init\n",
    "# train 2.0355966091156006\n",
    "# val 2.1026782989501953"
   ]
  },
  {
   "cell_type": "code",
   "execution_count": 20,
   "id": "ebd4c72e",
   "metadata": {},
   "outputs": [
    {
     "name": "stdout",
     "output_type": "stream",
     "text": [
      "carmahzauri.\n",
      "jai.\n",
      "kimri.\n",
      "reh.\n",
      "casparsha.\n",
      "jazhith.\n",
      "deliah.\n",
      "jareei.\n",
      "nellara.\n",
      "chaily.\n",
      "kaleigh.\n",
      "ham.\n",
      "jorn.\n",
      "quint.\n",
      "salin.\n",
      "alianni.\n",
      "waythoniearyn.\n",
      "kai.\n",
      "euliyuan.\n",
      "eddeli.\n"
     ]
    }
   ],
   "source": [
    "# sampling from the model \n",
    "g = torch.Generator().manual_seed(2147483647 + 10)\n",
    "\n",
    "for _ in range(20):\n",
    "    \n",
    "    out = []\n",
    "    context = [0] * block_size # initialize with all ...\n",
    "    while True:\n",
    "        # forward pass of the nn\n",
    "        emb = C[torch.tensor([context])] # (1, block_size, n_embed)\n",
    "        h = torch.tanh(emb.view(1, -1) @ W1 + b1)\n",
    "        logits = h @ W2 + b2\n",
    "        probs = F.softmax(logits, dim=1)\n",
    "        # sample the distribution\n",
    "        ix = torch.multinomial(probs, num_samples=1, generator=g).item()\n",
    "        # shift the context window and track samples\n",
    "        context = context[1:] + [ix]\n",
    "        out.append(ix)\n",
    "        # if we sample the special '.' token, break\n",
    "        if ix == 0:\n",
    "            break\n",
    "    print(''.join(itos[i] for i in out))"
   ]
  },
  {
   "cell_type": "markdown",
   "id": "1c117d29",
   "metadata": {},
   "source": [
    "### Improve the starting point"
   ]
  },
  {
   "cell_type": "code",
   "execution_count": 21,
   "id": "ad9db6a8",
   "metadata": {},
   "outputs": [
    {
     "data": {
      "text/plain": [
       "(tensor([ -3.8361, -21.3674,  -8.9595,   6.3605]),\n",
       " tensor([3.7295e-05, 9.0756e-13, 2.2211e-07, 9.9996e-01]),\n",
       " tensor(15.3201))"
      ]
     },
     "execution_count": 21,
     "metadata": {},
     "output_type": "execute_result"
    }
   ],
   "source": [
    "# starting the network is very confidently wrong: 27.8817\n",
    "\n",
    "# 4-dimensional example of the issue\n",
    "# logits = torch.tensor([0.0, 0.0, 0.0, 0.0])\n",
    "logits = torch.randn(4) * 10 # extreme values --> high loss\n",
    "probs = torch.softmax(logits, dim=0)\n",
    "loss = -probs[2].log()\n",
    "logits, probs, loss"
   ]
  },
  {
   "cell_type": "markdown",
   "id": "c78403f3",
   "metadata": {},
   "source": [
    "## Tuning with more generalizable technique"
   ]
  },
  {
   "cell_type": "code",
   "execution_count": 22,
   "id": "739c50c1",
   "metadata": {},
   "outputs": [
    {
     "data": {
      "text/plain": [
       "0.3042903097250923"
      ]
     },
     "execution_count": 22,
     "metadata": {},
     "output_type": "execute_result"
    }
   ],
   "source": [
    "# specific to tanh\n",
    "# gain / sqrt fan_in\n",
    "factor = (5/3)/(n_embed * block_size)**0.5 \n",
    "factor"
   ]
  },
  {
   "cell_type": "code",
   "execution_count": 23,
   "id": "ff7ef703",
   "metadata": {},
   "outputs": [
    {
     "name": "stdout",
     "output_type": "stream",
     "text": [
      "11897\n"
     ]
    }
   ],
   "source": [
    "g = torch.Generator().manual_seed(2147483647)\n",
    "C = torch.randn((vocab_size, n_embed),             generator=g)\n",
    "W1 = torch.randn((n_embed * block_size, n_hidden), generator=g) * factor # * 0.2\n",
    "b1 = torch.randn(n_hidden,                         generator=g) * 0.01\n",
    "\n",
    "W2 = torch.randn((n_hidden, vocab_size),           generator=g) * 0.01 #to decrease overall size of the logits\n",
    "b2 = torch.randn(vocab_size,                       generator=g) * 0\n",
    "\n",
    "parameters = [C, W1, b1, W2, b2]\n",
    "print(sum(p.nelement() for p in parameters)) # number of parameters total\n",
    "for p in parameters:\n",
    "    p.requires_grad = True"
   ]
  },
  {
   "cell_type": "code",
   "execution_count": 24,
   "id": "c30b52bf",
   "metadata": {},
   "outputs": [
    {
     "data": {
      "text/plain": [
       "tensor(0.2020)"
      ]
     },
     "execution_count": 24,
     "metadata": {},
     "output_type": "execute_result"
    }
   ],
   "source": [
    "torch.randn(10000).std() # approaches 1\n",
    "(torch.randn(10000) * 0.2).std()  # approaches the factor"
   ]
  },
  {
   "cell_type": "code",
   "execution_count": 25,
   "id": "c00545e1",
   "metadata": {},
   "outputs": [
    {
     "name": "stdout",
     "output_type": "stream",
     "text": [
      "Observe the standard deviations\n",
      "tensor(0.0207) tensor(1.0032)\n",
      "tensor(-0.0003) tensor(0.9875)\n"
     ]
    },
    {
     "data": {
      "image/png": "[encoded data removed]",
      "text/plain": [
       "<Figure size 2000x500 with 2 Axes>"
      ]
     },
     "metadata": {},
     "output_type": "display_data"
    }
   ],
   "source": [
    "x = torch.randn(1000, 10)\n",
    "\n",
    "# \"normalize by the fan_in\"\n",
    "factor = 10**0.5 # fan_in; the number of inputs to the layer\n",
    "w = torch.randn(10, 200) / factor # the division by the sqrt of 10 --> std close to 1\n",
    "# compare other factors (0.2, 5, 3) with multiplication to see the effect on the std of the outputs\n",
    "y = x @ w  # preactivations\n",
    "\n",
    "print(\"Observe the standard deviations\")\n",
    "print(x.mean(), x.std())\n",
    "print(y.mean(), y.std())\n",
    "plt.figure(figsize=(20, 5))\n",
    "plt.subplot(121)\n",
    "plt.hist(x.view(-1).tolist(), 50, density=True)\n",
    "plt.title(\"Initial inputs\");\n",
    "plt.subplot(122)\n",
    "plt.hist(y.view(-1).tolist(), 50, density=True)\n",
    "plt.title(\"Contracted deviation with preactivations\");"
   ]
  },
  {
   "cell_type": "markdown",
   "id": "42f2d9f4",
   "metadata": {},
   "source": [
    "Need to scale the standard deviation of the preactivations down in order to be close to 1. PyTorch has the [Kaiming initialization](https://pytorch.org/docs/stable/nn.init.html#:~:text=torch.nn.init.kaiming_uniform_(tensor%2C%20a%3D0%2C%20mode%3D%27fan_in%27%2C%20nonlinearity%3D%27leaky_relu%27) as one of the most common techniques for initializing the weights. Details of [the parameters](https://stackoverflow.com/questions/42670274/how-to-calculate-fan-in-and-fan-out-in-xavier-initialization-for-neural-networks#:~:text=fan_in%20is%20the%20number%20of,outputs%20to%20a%20layer%20(6)). [Discussion](https://youtu.be/P6sfmUTpUmc?t=2124) of why a gain term is needed; to relieve the contraction of standard deviation imposed by the tanh function. "
   ]
  },
  {
   "cell_type": "code",
   "execution_count": 26,
   "id": "450960e4",
   "metadata": {},
   "outputs": [
    {
     "name": "stdout",
     "output_type": "stream",
     "text": [
      "      0/ 200000: 3.3179\n",
      "  10000/ 200000: 2.1910\n",
      "  20000/ 200000: 2.3270\n",
      "  30000/ 200000: 2.5396\n",
      "  40000/ 200000: 1.9468\n",
      "  50000/ 200000: 2.3331\n",
      "  60000/ 200000: 2.3852\n",
      "  70000/ 200000: 2.1173\n",
      "  80000/ 200000: 2.3159\n",
      "  90000/ 200000: 2.2010\n",
      " 100000/ 200000: 1.8591\n",
      " 110000/ 200000: 2.0881\n",
      " 120000/ 200000: 1.9389\n",
      " 130000/ 200000: 2.3913\n",
      " 140000/ 200000: 2.0949\n",
      " 150000/ 200000: 2.1458\n",
      " 160000/ 200000: 1.7824\n",
      " 170000/ 200000: 1.7249\n",
      " 180000/ 200000: 1.9752\n",
      " 190000/ 200000: 1.8614\n"
     ]
    }
   ],
   "source": [
    "# Optimization\n",
    "max_steps = 200000\n",
    "batch_size = 32\n",
    "lossi = []\n",
    "\n",
    "for i in range(max_steps):\n",
    "    \n",
    "    #minibatch construct\n",
    "    ix = torch.randint(0, Xtr.shape[0], (batch_size,), generator=g)\n",
    "    Xb, Yb = Xtr[ix], Ytr[ix]  # batch X, Y -- ix is a tensor that indexes into tr\n",
    "    \n",
    "    # forward pass\n",
    "    emb = C[Xb] # embed the characters into vectors from C\n",
    "    embcat = emb.view(emb.shape[0], -1) # concatenate the vectors\n",
    "    \n",
    "    # hpreact too far from 0 --> neurons having trouble learning\n",
    "    hpreact = embcat @ W1 + b1 # hidden layer activation\n",
    "    \n",
    "    \n",
    "    h = torch.tanh(hpreact) # hidden layer\n",
    "    logits = h @ W2 + b2 # output layer\n",
    "    loss = F.cross_entropy(logits, Yb)  # loss function\n",
    "    \n",
    "    # backward pass\n",
    "    for p in parameters:\n",
    "        p.grad = None\n",
    "    loss.backward()\n",
    "    \n",
    "    # update\n",
    "    lr = 0.1 if i < 100000 else 0.01 # step the learning rate decay\n",
    "    for p in parameters:\n",
    "        p.data += -lr * p.grad\n",
    "        \n",
    "    # track stats\n",
    "    if i % 10000 == 0: \n",
    "        print(f\"{i:7d}/{max_steps:7d}: {loss.item():.4f}\")\n",
    "    lossi.append(loss.log10().item())"
   ]
  },
  {
   "cell_type": "code",
   "execution_count": 27,
   "id": "e16eb37f",
   "metadata": {},
   "outputs": [
    {
     "name": "stdout",
     "output_type": "stream",
     "text": [
      "train 2.0376644134521484\n",
      "val 2.106989622116089\n"
     ]
    }
   ],
   "source": [
    "@torch.no_grad() # decorator to disable gradient tracking\n",
    "def split_loss(split):\n",
    "    x,y = {\n",
    "        'train': (Xtr, Ytr),\n",
    "        'val': (Xdev, Ydev),\n",
    "        'test': (Xte, Yte)\n",
    "    }[split]\n",
    "    emb = C[x] #(N, block_size, n_embed)\n",
    "    embcat = emb.view(emb.shape[0], -1) # concat into (N, block_size * n_embed)\n",
    "    hpreact = embcat @ W1 + b1\n",
    "    \n",
    "    h = torch.tanh(hpreact) # (N, n_hidden)\n",
    "    logits = h @ W2 + b2 # (N, vocab_size)\n",
    "    loss = F.cross_entropy(logits, y)\n",
    "    print(split, loss.item())\n",
    "    \n",
    "split_loss('train')\n",
    "split_loss('val')"
   ]
  },
  {
   "cell_type": "markdown",
   "id": "f774a4b5",
   "metadata": {},
   "source": [
    "These loss values are close to the same; the virtue is that this is more generalizable with the ***gain x sqrt(fan_in)*** factor. "
   ]
  },
  {
   "cell_type": "markdown",
   "id": "dc687bbd",
   "metadata": {},
   "source": [
    "## Batch Normalization\n",
    "standardize hidden states (normalize) to make them Guassian; common to include them for each linear layer and convolution in deeper networks\n",
    "- jittering effect; depending on the random selection of values in the batch different mean and std will be seen --> jittering"
   ]
  },
  {
   "cell_type": "code",
   "execution_count": 28,
   "id": "6ab5e570",
   "metadata": {},
   "outputs": [
    {
     "name": "stdout",
     "output_type": "stream",
     "text": [
      "12297\n"
     ]
    }
   ],
   "source": [
    "# batch gain and batch bias = shift and scale features to be trained after initial initialization\n",
    "\n",
    "g = torch.Generator().manual_seed(2147483647)\n",
    "C = torch.randn((vocab_size, n_embed),             generator=g)\n",
    "W1 = torch.randn((n_embed * block_size, n_hidden), generator=g) * factor # * 0.2\n",
    "b1 = torch.randn(n_hidden,                         generator=g) * 0.01\n",
    "\n",
    "W2 = torch.randn((n_hidden, vocab_size),           generator=g) * 0.01 #to decrease overall size of the logits\n",
    "b2 = torch.randn(vocab_size,                       generator=g) * 0\n",
    "\n",
    "# terms to support batch normalization\n",
    "bngain = torch.ones((1, n_hidden))\n",
    "bnbias = torch.zeros((1, n_hidden))\n",
    "\n",
    "# include the batch normailization gain and bias for optimization (backpropagation)\n",
    "parameters = [C, W1, b1, W2, b2, bngain, bnbias]\n",
    "print(sum(p.nelement() for p in parameters)) # number of parameters total\n",
    "for p in parameters:\n",
    "    p.requires_grad = True"
   ]
  },
  {
   "cell_type": "code",
   "execution_count": 29,
   "id": "7c54cb1b",
   "metadata": {},
   "outputs": [
    {
     "data": {
      "text/plain": [
       "torch.Size([1, 200])"
      ]
     },
     "execution_count": 29,
     "metadata": {},
     "output_type": "execute_result"
    }
   ],
   "source": [
    "# mean of the pre-activation values; mean of all values in the batch\n",
    "hpreact.mean(0, keepdims=True).shape"
   ]
  },
  {
   "cell_type": "code",
   "execution_count": 30,
   "id": "44a28887",
   "metadata": {},
   "outputs": [
    {
     "data": {
      "text/plain": [
       "torch.Size([1, 200])"
      ]
     },
     "execution_count": 30,
     "metadata": {},
     "output_type": "execute_result"
    }
   ],
   "source": [
    "# standard deviation of the vlaues\n",
    "hpreact.std(0, keepdims=True).shape"
   ]
  },
  {
   "cell_type": "code",
   "execution_count": 31,
   "id": "21709c33",
   "metadata": {},
   "outputs": [
    {
     "name": "stdout",
     "output_type": "stream",
     "text": [
      "      0/ 200000: 3.3147\n",
      "  10000/ 200000: 2.2382\n",
      "  20000/ 200000: 2.4296\n",
      "  30000/ 200000: 2.4922\n",
      "  40000/ 200000: 1.9450\n",
      "  50000/ 200000: 2.4919\n",
      "  60000/ 200000: 2.4512\n",
      "  70000/ 200000: 2.0536\n",
      "  80000/ 200000: 2.3732\n",
      "  90000/ 200000: 2.2266\n",
      " 100000/ 200000: 2.1449\n",
      " 110000/ 200000: 2.4031\n",
      " 120000/ 200000: 2.0916\n",
      " 130000/ 200000: 2.5729\n",
      " 140000/ 200000: 2.4819\n",
      " 150000/ 200000: 2.2763\n",
      " 160000/ 200000: 2.0418\n",
      " 170000/ 200000: 1.8332\n",
      " 180000/ 200000: 2.2360\n",
      " 190000/ 200000: 1.9751\n"
     ]
    }
   ],
   "source": [
    "# Optimization\n",
    "max_steps = 200000\n",
    "batch_size = 32\n",
    "lossi = []\n",
    "\n",
    "for i in range(max_steps):\n",
    "    \n",
    "    #minibatch construct\n",
    "    ix = torch.randint(0, Xtr.shape[0], (batch_size,), generator=g)\n",
    "    Xb, Yb = Xtr[ix], Ytr[ix]  # batch X, Y -- ix is a tensor that indexes into tr\n",
    "    \n",
    "    # forward pass\n",
    "    emb = C[Xb] # embed the characters into vectors from C\n",
    "    embcat = emb.view(emb.shape[0], -1) # concatenate the vectors\n",
    "    \n",
    "    # hpreact too far from 0 --> neurons having trouble learning\n",
    "    # normalizing the values of the pre-activations; this is for pre-initialization only; once backpropagation \n",
    "    # commences the shape and values should depart from Guassian --> scale and shift\n",
    "    # scale and shift terms = bngains and bnbias; terms to capture optimization at backpropagation\n",
    "    ########## Not as significant with a small network, with more layers becomes more useful #############\n",
    "    ###########################################################\n",
    "    hpreact = embcat @ W1 + b1 # hidden layer activation\n",
    "    hpreact = bngain * (hpreact - hpreact.mean(0, keepdims=True))/ hpreact.std(0, keepdims=True) + bnbias\n",
    "    \n",
    "    h = torch.tanh(hpreact) # hidden layer\n",
    "    logits = h @ W2 + b2 # output layer\n",
    "    loss = F.cross_entropy(logits, Yb)  # loss function\n",
    "    \n",
    "    # backward pass\n",
    "    for p in parameters:\n",
    "        p.grad = None\n",
    "    loss.backward()\n",
    "    \n",
    "    # update\n",
    "    lr = 0.1 if i < 100000 else 0.01 # step the learning rate decay\n",
    "    for p in parameters:\n",
    "        p.data += -lr * p.grad\n",
    "        \n",
    "    # track stats\n",
    "    if i % 10000 == 0: \n",
    "        print(f\"{i:7d}/{max_steps:7d}: {loss.item():.4f}\")\n",
    "    lossi.append(loss.log10().item())"
   ]
  },
  {
   "cell_type": "code",
   "execution_count": 32,
   "id": "fd4dcaad",
   "metadata": {},
   "outputs": [
    {
     "name": "stdout",
     "output_type": "stream",
     "text": [
      "train 2.1608057022094727\n",
      "val 2.1770615577697754\n"
     ]
    }
   ],
   "source": [
    "@torch.no_grad() # decorator to disable gradient tracking\n",
    "def split_loss(split):\n",
    "    x,y = {\n",
    "        'train': (Xtr, Ytr),\n",
    "        'val': (Xdev, Ydev),\n",
    "        'test': (Xte, Yte)\n",
    "    }[split]\n",
    "    emb = C[x] #(N, block_size, n_embed)\n",
    "    embcat = emb.view(emb.shape[0], -1) # concat into (N, block_size * n_embed)\n",
    "    hpreact = embcat @ W1 + b1\n",
    "    hpreact = bngain * (hpreact - hpreact.mean(0, keepdims=True))/ hpreact.std(0, keepdims=True) + bnbias\n",
    "    \n",
    "    h = torch.tanh(hpreact) # (N, n_hidden)\n",
    "    logits = h @ W2 + b2 # (N, vocab_size)\n",
    "    loss = F.cross_entropy(logits, y)\n",
    "    print(split, loss.item())\n",
    "    \n",
    "split_loss('train')\n",
    "split_loss('val')"
   ]
  },
  {
   "cell_type": "code",
   "execution_count": null,
   "id": "b81125d5",
   "metadata": {},
   "outputs": [],
   "source": []
  },
  {
   "cell_type": "code",
   "execution_count": null,
   "id": "d4b8bcb6",
   "metadata": {},
   "outputs": [],
   "source": []
  },
  {
   "cell_type": "markdown",
   "id": "eb109e13",
   "metadata": {},
   "source": [
    "### Calculate the mean and std at each iteration (running)"
   ]
  },
  {
   "cell_type": "markdown",
   "id": "6b9884fb",
   "metadata": {},
   "source": [
    "### Additionally observe the effect of removing the b1 term; stated that it is redundant to the batch bias (?)"
   ]
  },
  {
   "cell_type": "code",
   "execution_count": 33,
   "id": "a7c2454b",
   "metadata": {},
   "outputs": [
    {
     "name": "stdout",
     "output_type": "stream",
     "text": [
      "12097\n"
     ]
    }
   ],
   "source": [
    "# batch gain and batch bias = shift and scale features to be trained after initial initialization\n",
    "\n",
    "g = torch.Generator().manual_seed(2147483647)\n",
    "C = torch.randn((vocab_size, n_embed),             generator=g)\n",
    "W1 = torch.randn((n_embed * block_size, n_hidden), generator=g) * factor # * 0.2\n",
    "b1 = torch.randn(n_hidden,                         generator=g) * 0.01\n",
    "\n",
    "W2 = torch.randn((n_hidden, vocab_size),           generator=g) * 0.01 #to decrease overall size of the logits\n",
    "b2 = torch.randn(vocab_size,                       generator=g) * 0\n",
    "\n",
    "# terms to support batch normalization\n",
    "bngain = torch.ones((1, n_hidden))\n",
    "bnbias = torch.zeros((1, n_hidden))\n",
    "# running, mean and std up to i\n",
    "bnmean_running = torch.zeros((1, n_hidden))\n",
    "bnstd_running = torch.ones((1, n_hidden))\n",
    "\n",
    "# include the batch normailization gain and bias for optimization (backpropagation)\n",
    "# parameters = [C, W1, b1, W2, b2, bngain, bnbias]\n",
    "\n",
    "parameters = [C, W1, W2, b2, bngain, bnbias]\n",
    "\n",
    "\n",
    "\n",
    "print(sum(p.nelement() for p in parameters)) # number of parameters total\n",
    "for p in parameters:\n",
    "    p.requires_grad = True"
   ]
  },
  {
   "cell_type": "code",
   "execution_count": 34,
   "id": "23e3c6f1",
   "metadata": {},
   "outputs": [
    {
     "name": "stdout",
     "output_type": "stream",
     "text": [
      "      0/ 200000: 3.3147\n",
      "  10000/ 200000: 2.2382\n",
      "  20000/ 200000: 2.4296\n",
      "  30000/ 200000: 2.4922\n",
      "  40000/ 200000: 1.9450\n",
      "  50000/ 200000: 2.4919\n",
      "  60000/ 200000: 2.4512\n",
      "  70000/ 200000: 2.0536\n",
      "  80000/ 200000: 2.3732\n",
      "  90000/ 200000: 2.2266\n",
      " 100000/ 200000: 2.1449\n",
      " 110000/ 200000: 2.4031\n",
      " 120000/ 200000: 2.0916\n",
      " 130000/ 200000: 2.5729\n",
      " 140000/ 200000: 2.4819\n",
      " 150000/ 200000: 2.2763\n",
      " 160000/ 200000: 2.0418\n",
      " 170000/ 200000: 1.8332\n",
      " 180000/ 200000: 2.2360\n",
      " 190000/ 200000: 1.9750\n"
     ]
    }
   ],
   "source": [
    "# Optimization\n",
    "max_steps = 200000\n",
    "batch_size = 32\n",
    "lossi = []\n",
    "\n",
    "for i in range(max_steps):\n",
    "    \n",
    "    #minibatch construct\n",
    "    ix = torch.randint(0, Xtr.shape[0], (batch_size,), generator=g)\n",
    "    Xb, Yb = Xtr[ix], Ytr[ix]  # batch X, Y -- ix is a tensor that indexes into tr\n",
    "    \n",
    "    # forward pass\n",
    "    emb = C[Xb] # embed the characters into vectors from C\n",
    "    embcat = emb.view(emb.shape[0], -1) # concatenate the vectors\n",
    "    \n",
    "    # hpreact too far from 0 --> neurons having trouble learning\n",
    "    # normalizing the values of the pre-activations; this is for pre-initialization only; once backpropagation \n",
    "    # commences the shape and values should depart from Guassian --> scale and shift\n",
    "    # scale and shift terms = bngains and bnbias; terms to capture optimization at backpropagation\n",
    "    ########## Not as significant with a small network, with more layers becomes more useful #############\n",
    "    hpreact = embcat @ W1 # + b1 # hidden layer activation; this bias term is now redundant due to bnbias\n",
    "    bnmeani = hpreact.mean(0, keepdims=True)\n",
    "    bnstdi = hpreact.std(0, keepdims=True) # possible +epsilon\n",
    "    \n",
    "    hpreact = bngain * (hpreact - bnmeani)/ bnstdi + bnbias # possible +epsilon; encompasses previous \n",
    "                                                            # layer bias b1\n",
    "    \n",
    "    \n",
    "    ############### Running mean and Std\n",
    "    # each value is mostly what it was before with a small update based on the current iteration\n",
    "    # outside of gradient update\n",
    "    with torch.no_grad():\n",
    "        bnmean_running = 0.999 * bnmean_running + 0.001 * bnmeani\n",
    "        bnstd_running = 0.999 * bnstd_running + 0.001 * bnstdi \n",
    "    \n",
    "    h = torch.tanh(hpreact) # hidden layer\n",
    "    logits = h @ W2 + b2 # output layer\n",
    "    loss = F.cross_entropy(logits, Yb)  # loss function\n",
    "    \n",
    "    # backward pass\n",
    "    for p in parameters:\n",
    "        p.grad = None\n",
    "    loss.backward()\n",
    "    \n",
    "    # update\n",
    "    lr = 0.1 if i < 100000 else 0.01 # step the learning rate decay\n",
    "    for p in parameters:\n",
    "        p.data += -lr * p.grad\n",
    "        \n",
    "    # track stats\n",
    "    if i % 10000 == 0: \n",
    "        print(f\"{i:7d}/{max_steps:7d}: {loss.item():.4f}\")\n",
    "    lossi.append(loss.log10().item())"
   ]
  },
  {
   "cell_type": "markdown",
   "id": "1d893625",
   "metadata": {},
   "source": [
    "## #2"
   ]
  },
  {
   "cell_type": "code",
   "execution_count": 35,
   "id": "02c54ee0",
   "metadata": {},
   "outputs": [],
   "source": [
    "# calibrate the batch more at the begining of training\n",
    "\n",
    "with torch.no_grad():\n",
    "    # pass the training set through\n",
    "    emb = C[Xtr]\n",
    "    embcat = emb.view(emb.shape[0], -1)\n",
    "    hpreact = embcat @W1 # + b1\n",
    "    \n",
    "    # measure the mean/std over the entire training set\n",
    "    bnmean = hpreact.mean(0, keepdims=True)\n",
    "    bnstd = hpreact.std(0, keepdims=True)"
   ]
  },
  {
   "cell_type": "markdown",
   "id": "e39ab5a6",
   "metadata": {},
   "source": [
    "By maintaining a running value for the mean and std a step (#2) to calculate the batch values after training is not needed"
   ]
  },
  {
   "cell_type": "code",
   "execution_count": 36,
   "id": "ab1514a5",
   "metadata": {},
   "outputs": [],
   "source": [
    "# bnmean\n",
    "# bnstd"
   ]
  },
  {
   "cell_type": "code",
   "execution_count": 37,
   "id": "b8cedcae",
   "metadata": {},
   "outputs": [],
   "source": [
    "# bnmean_running\n",
    "# bnstd_running"
   ]
  },
  {
   "cell_type": "code",
   "execution_count": 38,
   "id": "b924274d",
   "metadata": {},
   "outputs": [
    {
     "name": "stdout",
     "output_type": "stream",
     "text": [
      "train 2.1606202125549316\n",
      "val 2.1769914627075195\n"
     ]
    }
   ],
   "source": [
    "# then use the mean and std from the entire training set to calculate the values in the batch\n",
    "\n",
    "@torch.no_grad() # decorator to disable gradient tracking\n",
    "def split_loss(split):\n",
    "    x,y = {\n",
    "        'train': (Xtr, Ytr),\n",
    "        'val': (Xdev, Ydev),\n",
    "        'test': (Xte, Yte)\n",
    "    }[split]\n",
    "    emb = C[x] #(N, block_size, n_embed)\n",
    "    embcat = emb.view(emb.shape[0], -1) # concat into (N, block_size * n_embed)\n",
    "    hpreact = embcat @ W1 # + b1\n",
    "    \n",
    "    # use the mean and std from the entire dataset\n",
    "    hpreact = bngain * (hpreact - bnmean_running)/ bnstd_running + bnbias\n",
    "    \n",
    "    h = torch.tanh(hpreact) # (N, n_hidden)\n",
    "    logits = h @ W2 + b2 # (N, vocab_size)\n",
    "    loss = F.cross_entropy(logits, y)\n",
    "    print(split, loss.item())\n",
    "    \n",
    "split_loss('train')\n",
    "split_loss('val')"
   ]
  },
  {
   "cell_type": "code",
   "execution_count": 39,
   "id": "b0238ef9",
   "metadata": {},
   "outputs": [],
   "source": [
    "# train 2.1606202125549316\n",
    "# val 2.1769914627075195"
   ]
  }
 ],
 "metadata": {
  "kernelspec": {
   "display_name": "Python 3 (ipykernel)",
   "language": "python",
   "name": "python3"
  },
  "language_info": {
   "codemirror_mode": {
    "name": "ipython",
    "version": 3
   },
   "file_extension": ".py",
   "mimetype": "text/x-python",
   "name": "python",
   "nbconvert_exporter": "python",
   "pygments_lexer": "ipython3",
   "version": "3.10.8"
  }
 },
 "nbformat": 4,
 "nbformat_minor": 5
}
